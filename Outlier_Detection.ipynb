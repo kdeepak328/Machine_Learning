{
 "cells": [
  {
   "cell_type": "code",
   "execution_count": 1,
   "metadata": {},
   "outputs": [],
   "source": [
    "import pandas as pd\n",
    "import numpy as np\n",
    "import matplotlib.pyplot as plt\n",
    "%matplotlib inline"
   ]
  },
  {
   "cell_type": "code",
   "execution_count": 2,
   "metadata": {},
   "outputs": [],
   "source": [
    "df1 = pd.read_csv('C:/Users/kdeep/Downloads/internship-data-1.csv')"
   ]
  },
  {
   "cell_type": "code",
   "execution_count": 3,
   "metadata": {},
   "outputs": [
    {
     "data": {
      "text/html": [
       "<div>\n",
       "<style scoped>\n",
       "    .dataframe tbody tr th:only-of-type {\n",
       "        vertical-align: middle;\n",
       "    }\n",
       "\n",
       "    .dataframe tbody tr th {\n",
       "        vertical-align: top;\n",
       "    }\n",
       "\n",
       "    .dataframe thead th {\n",
       "        text-align: right;\n",
       "    }\n",
       "</style>\n",
       "<table border=\"1\" class=\"dataframe\">\n",
       "  <thead>\n",
       "    <tr style=\"text-align: right;\">\n",
       "      <th></th>\n",
       "      <th>time</th>\n",
       "      <th>Cyclone_Inlet_Gas_Temp</th>\n",
       "      <th>Cyclone_Material_Temp</th>\n",
       "      <th>Cyclone_Outlet_Gas_draft</th>\n",
       "      <th>Cyclone_cone_draft</th>\n",
       "      <th>Cyclone_Gas_Outlet_Temp</th>\n",
       "      <th>Cyclone_Inlet_Draft</th>\n",
       "    </tr>\n",
       "  </thead>\n",
       "  <tbody>\n",
       "    <tr>\n",
       "      <th>0</th>\n",
       "      <td>1-1-2017 0:00</td>\n",
       "      <td>867.63</td>\n",
       "      <td>910.42</td>\n",
       "      <td>-189.54</td>\n",
       "      <td>-186.04</td>\n",
       "      <td>852.13</td>\n",
       "      <td>-145.9</td>\n",
       "    </tr>\n",
       "    <tr>\n",
       "      <th>1</th>\n",
       "      <td>1-1-2017 0:05</td>\n",
       "      <td>879.23</td>\n",
       "      <td>918.14</td>\n",
       "      <td>-184.33</td>\n",
       "      <td>-182.1</td>\n",
       "      <td>862.53</td>\n",
       "      <td>-149.76</td>\n",
       "    </tr>\n",
       "    <tr>\n",
       "      <th>2</th>\n",
       "      <td>1-1-2017 0:10</td>\n",
       "      <td>875.67</td>\n",
       "      <td>924.18</td>\n",
       "      <td>-181.26</td>\n",
       "      <td>-166.47</td>\n",
       "      <td>866.06</td>\n",
       "      <td>-145.01</td>\n",
       "    </tr>\n",
       "    <tr>\n",
       "      <th>3</th>\n",
       "      <td>1-1-2017 0:15</td>\n",
       "      <td>875.28</td>\n",
       "      <td>923.15</td>\n",
       "      <td>-179.15</td>\n",
       "      <td>-174.83</td>\n",
       "      <td>865.85</td>\n",
       "      <td>-142.82</td>\n",
       "    </tr>\n",
       "    <tr>\n",
       "      <th>4</th>\n",
       "      <td>1-1-2017 0:20</td>\n",
       "      <td>891.66</td>\n",
       "      <td>934.26</td>\n",
       "      <td>-178.32</td>\n",
       "      <td>-173.72</td>\n",
       "      <td>876.06</td>\n",
       "      <td>-143.39</td>\n",
       "    </tr>\n",
       "  </tbody>\n",
       "</table>\n",
       "</div>"
      ],
      "text/plain": [
       "            time Cyclone_Inlet_Gas_Temp Cyclone_Material_Temp  \\\n",
       "0  1-1-2017 0:00                 867.63                910.42   \n",
       "1  1-1-2017 0:05                 879.23                918.14   \n",
       "2  1-1-2017 0:10                 875.67                924.18   \n",
       "3  1-1-2017 0:15                 875.28                923.15   \n",
       "4  1-1-2017 0:20                 891.66                934.26   \n",
       "\n",
       "  Cyclone_Outlet_Gas_draft Cyclone_cone_draft Cyclone_Gas_Outlet_Temp  \\\n",
       "0                  -189.54            -186.04                  852.13   \n",
       "1                  -184.33             -182.1                  862.53   \n",
       "2                  -181.26            -166.47                  866.06   \n",
       "3                  -179.15            -174.83                  865.85   \n",
       "4                  -178.32            -173.72                  876.06   \n",
       "\n",
       "  Cyclone_Inlet_Draft  \n",
       "0              -145.9  \n",
       "1             -149.76  \n",
       "2             -145.01  \n",
       "3             -142.82  \n",
       "4             -143.39  "
      ]
     },
     "execution_count": 3,
     "metadata": {},
     "output_type": "execute_result"
    }
   ],
   "source": [
    "df1.head()"
   ]
  },
  {
   "cell_type": "code",
   "execution_count": 4,
   "metadata": {},
   "outputs": [
    {
     "data": {
      "text/plain": [
       "time                        object\n",
       "Cyclone_Inlet_Gas_Temp      object\n",
       "Cyclone_Material_Temp       object\n",
       "Cyclone_Outlet_Gas_draft    object\n",
       "Cyclone_cone_draft          object\n",
       "Cyclone_Gas_Outlet_Temp     object\n",
       "Cyclone_Inlet_Draft         object\n",
       "dtype: object"
      ]
     },
     "execution_count": 4,
     "metadata": {},
     "output_type": "execute_result"
    }
   ],
   "source": [
    "df1.dtypes"
   ]
  },
  {
   "cell_type": "code",
   "execution_count": 5,
   "metadata": {},
   "outputs": [],
   "source": [
    "df1['time'] = pd.to_datetime(df1['time'])"
   ]
  },
  {
   "cell_type": "code",
   "execution_count": 6,
   "metadata": {},
   "outputs": [
    {
     "data": {
      "text/plain": [
       "time                        datetime64[ns]\n",
       "Cyclone_Inlet_Gas_Temp              object\n",
       "Cyclone_Material_Temp               object\n",
       "Cyclone_Outlet_Gas_draft            object\n",
       "Cyclone_cone_draft                  object\n",
       "Cyclone_Gas_Outlet_Temp             object\n",
       "Cyclone_Inlet_Draft                 object\n",
       "dtype: object"
      ]
     },
     "execution_count": 6,
     "metadata": {},
     "output_type": "execute_result"
    }
   ],
   "source": [
    "df1.dtypes"
   ]
  },
  {
   "cell_type": "code",
   "execution_count": 7,
   "metadata": {},
   "outputs": [],
   "source": [
    "sf2=df1[[\"Cyclone_Inlet_Gas_Temp\", \"Cyclone_Material_Temp\",\"Cyclone_Outlet_Gas_draft\",\"Cyclone_cone_draft\",\"Cyclone_Gas_Outlet_Temp\",\"Cyclone_Inlet_Draft\"]]"
   ]
  },
  {
   "cell_type": "code",
   "execution_count": 8,
   "metadata": {},
   "outputs": [],
   "source": [
    "sf3 = sf2.apply(pd.to_numeric, errors='coerce')"
   ]
  },
  {
   "cell_type": "code",
   "execution_count": 9,
   "metadata": {},
   "outputs": [
    {
     "data": {
      "text/plain": [
       "Cyclone_Inlet_Gas_Temp      float64\n",
       "Cyclone_Material_Temp       float64\n",
       "Cyclone_Outlet_Gas_draft    float64\n",
       "Cyclone_cone_draft          float64\n",
       "Cyclone_Gas_Outlet_Temp     float64\n",
       "Cyclone_Inlet_Draft         float64\n",
       "dtype: object"
      ]
     },
     "execution_count": 9,
     "metadata": {},
     "output_type": "execute_result"
    }
   ],
   "source": [
    "sf3.dtypes"
   ]
  },
  {
   "cell_type": "code",
   "execution_count": 10,
   "metadata": {},
   "outputs": [
    {
     "data": {
      "text/html": [
       "<div>\n",
       "<style scoped>\n",
       "    .dataframe tbody tr th:only-of-type {\n",
       "        vertical-align: middle;\n",
       "    }\n",
       "\n",
       "    .dataframe tbody tr th {\n",
       "        vertical-align: top;\n",
       "    }\n",
       "\n",
       "    .dataframe thead th {\n",
       "        text-align: right;\n",
       "    }\n",
       "</style>\n",
       "<table border=\"1\" class=\"dataframe\">\n",
       "  <thead>\n",
       "    <tr style=\"text-align: right;\">\n",
       "      <th></th>\n",
       "      <th>Cyclone_Inlet_Gas_Temp</th>\n",
       "      <th>Cyclone_Material_Temp</th>\n",
       "      <th>Cyclone_Outlet_Gas_draft</th>\n",
       "      <th>Cyclone_cone_draft</th>\n",
       "      <th>Cyclone_Gas_Outlet_Temp</th>\n",
       "      <th>Cyclone_Inlet_Draft</th>\n",
       "    </tr>\n",
       "  </thead>\n",
       "  <tbody>\n",
       "    <tr>\n",
       "      <th>count</th>\n",
       "      <td>376399.000000</td>\n",
       "      <td>376128.000000</td>\n",
       "      <td>376398.000000</td>\n",
       "      <td>376399.000000</td>\n",
       "      <td>376398.000000</td>\n",
       "      <td>376397.000000</td>\n",
       "    </tr>\n",
       "    <tr>\n",
       "      <th>mean</th>\n",
       "      <td>727.348549</td>\n",
       "      <td>750.830483</td>\n",
       "      <td>-177.820678</td>\n",
       "      <td>-164.572599</td>\n",
       "      <td>715.759998</td>\n",
       "      <td>-141.302857</td>\n",
       "    </tr>\n",
       "    <tr>\n",
       "      <th>std</th>\n",
       "      <td>328.664814</td>\n",
       "      <td>350.921068</td>\n",
       "      <td>99.147236</td>\n",
       "      <td>90.103020</td>\n",
       "      <td>325.346459</td>\n",
       "      <td>77.615576</td>\n",
       "    </tr>\n",
       "    <tr>\n",
       "      <th>min</th>\n",
       "      <td>0.000000</td>\n",
       "      <td>-185.000000</td>\n",
       "      <td>-456.660000</td>\n",
       "      <td>-459.310000</td>\n",
       "      <td>13.790000</td>\n",
       "      <td>-396.370000</td>\n",
       "    </tr>\n",
       "    <tr>\n",
       "      <th>25%</th>\n",
       "      <td>856.270000</td>\n",
       "      <td>867.667500</td>\n",
       "      <td>-247.190000</td>\n",
       "      <td>-226.770000</td>\n",
       "      <td>801.960000</td>\n",
       "      <td>-193.510000</td>\n",
       "    </tr>\n",
       "    <tr>\n",
       "      <th>50%</th>\n",
       "      <td>882.380000</td>\n",
       "      <td>913.360000</td>\n",
       "      <td>-215.260000</td>\n",
       "      <td>-198.560000</td>\n",
       "      <td>871.530000</td>\n",
       "      <td>-169.460000</td>\n",
       "    </tr>\n",
       "    <tr>\n",
       "      <th>75%</th>\n",
       "      <td>901.110000</td>\n",
       "      <td>943.660000</td>\n",
       "      <td>-170.130000</td>\n",
       "      <td>-143.640000</td>\n",
       "      <td>899.300000</td>\n",
       "      <td>-136.290000</td>\n",
       "    </tr>\n",
       "    <tr>\n",
       "      <th>max</th>\n",
       "      <td>1157.630000</td>\n",
       "      <td>1375.000000</td>\n",
       "      <td>40.270000</td>\n",
       "      <td>488.860000</td>\n",
       "      <td>1375.000000</td>\n",
       "      <td>41.640000</td>\n",
       "    </tr>\n",
       "  </tbody>\n",
       "</table>\n",
       "</div>"
      ],
      "text/plain": [
       "       Cyclone_Inlet_Gas_Temp  Cyclone_Material_Temp  \\\n",
       "count           376399.000000          376128.000000   \n",
       "mean               727.348549             750.830483   \n",
       "std                328.664814             350.921068   \n",
       "min                  0.000000            -185.000000   \n",
       "25%                856.270000             867.667500   \n",
       "50%                882.380000             913.360000   \n",
       "75%                901.110000             943.660000   \n",
       "max               1157.630000            1375.000000   \n",
       "\n",
       "       Cyclone_Outlet_Gas_draft  Cyclone_cone_draft  Cyclone_Gas_Outlet_Temp  \\\n",
       "count             376398.000000       376399.000000            376398.000000   \n",
       "mean                -177.820678         -164.572599               715.759998   \n",
       "std                   99.147236           90.103020               325.346459   \n",
       "min                 -456.660000         -459.310000                13.790000   \n",
       "25%                 -247.190000         -226.770000               801.960000   \n",
       "50%                 -215.260000         -198.560000               871.530000   \n",
       "75%                 -170.130000         -143.640000               899.300000   \n",
       "max                   40.270000          488.860000              1375.000000   \n",
       "\n",
       "       Cyclone_Inlet_Draft  \n",
       "count        376397.000000  \n",
       "mean           -141.302857  \n",
       "std              77.615576  \n",
       "min            -396.370000  \n",
       "25%            -193.510000  \n",
       "50%            -169.460000  \n",
       "75%            -136.290000  \n",
       "max              41.640000  "
      ]
     },
     "execution_count": 10,
     "metadata": {},
     "output_type": "execute_result"
    }
   ],
   "source": [
    "sf3.describe()"
   ]
  },
  {
   "cell_type": "code",
   "execution_count": 11,
   "metadata": {},
   "outputs": [],
   "source": [
    "dfa= df1['time']"
   ]
  },
  {
   "cell_type": "code",
   "execution_count": 12,
   "metadata": {},
   "outputs": [],
   "source": [
    "dftb=pd.concat([dfa, sf3], join = 'outer', axis = 1)"
   ]
  },
  {
   "cell_type": "code",
   "execution_count": 13,
   "metadata": {},
   "outputs": [
    {
     "data": {
      "text/plain": [
       "time                           0\n",
       "Cyclone_Inlet_Gas_Temp      1320\n",
       "Cyclone_Material_Temp       1591\n",
       "Cyclone_Outlet_Gas_draft    1321\n",
       "Cyclone_cone_draft          1320\n",
       "Cyclone_Gas_Outlet_Temp     1321\n",
       "Cyclone_Inlet_Draft         1322\n",
       "dtype: int64"
      ]
     },
     "execution_count": 13,
     "metadata": {},
     "output_type": "execute_result"
    }
   ],
   "source": [
    "dftb.isna().sum()"
   ]
  },
  {
   "cell_type": "code",
   "execution_count": 14,
   "metadata": {},
   "outputs": [],
   "source": [
    "dbtc = dftb"
   ]
  },
  {
   "cell_type": "code",
   "execution_count": 15,
   "metadata": {},
   "outputs": [],
   "source": [
    "dbtc.dropna(inplace=True)"
   ]
  },
  {
   "cell_type": "code",
   "execution_count": 16,
   "metadata": {},
   "outputs": [
    {
     "data": {
      "text/plain": [
       "time                        0\n",
       "Cyclone_Inlet_Gas_Temp      0\n",
       "Cyclone_Material_Temp       0\n",
       "Cyclone_Outlet_Gas_draft    0\n",
       "Cyclone_cone_draft          0\n",
       "Cyclone_Gas_Outlet_Temp     0\n",
       "Cyclone_Inlet_Draft         0\n",
       "dtype: int64"
      ]
     },
     "execution_count": 16,
     "metadata": {},
     "output_type": "execute_result"
    }
   ],
   "source": [
    "dbtc.isna().sum()"
   ]
  },
  {
   "cell_type": "code",
   "execution_count": 17,
   "metadata": {},
   "outputs": [],
   "source": [
    "dbtd=dbtc[[\"Cyclone_Inlet_Gas_Temp\", \"Cyclone_Material_Temp\",\"Cyclone_Outlet_Gas_draft\",\"Cyclone_cone_draft\",\"Cyclone_Gas_Outlet_Temp\",\"Cyclone_Inlet_Draft\"]]"
   ]
  },
  {
   "cell_type": "code",
   "execution_count": 18,
   "metadata": {},
   "outputs": [
    {
     "name": "stdout",
     "output_type": "stream",
     "text": [
      "Cyclone_Inlet_Gas_Temp      44.84\n",
      "Cyclone_Material_Temp       76.00\n",
      "Cyclone_Outlet_Gas_draft    77.04\n",
      "Cyclone_cone_draft          83.09\n",
      "Cyclone_Gas_Outlet_Temp     97.26\n",
      "Cyclone_Inlet_Draft         57.20\n",
      "dtype: float64\n"
     ]
    }
   ],
   "source": [
    "Q1 = dbtd.quantile(0.25)\n",
    "Q3 = dbtd.quantile(0.75)\n",
    "IQR = Q3 - Q1\n",
    "print(IQR)"
   ]
  },
  {
   "cell_type": "code",
   "execution_count": 19,
   "metadata": {},
   "outputs": [],
   "source": [
    "dbte = (dbtd < (Q1 - 1.5 * IQR)) |(dbtd > (Q3 + 1.5 * IQR))"
   ]
  },
  {
   "cell_type": "code",
   "execution_count": 20,
   "metadata": {},
   "outputs": [],
   "source": [
    "dbtt=dbtc['time']"
   ]
  },
  {
   "cell_type": "code",
   "execution_count": 21,
   "metadata": {},
   "outputs": [],
   "source": [
    "dftf=pd.concat([dbtt, dbte], join = 'outer', axis = 1)"
   ]
  },
  {
   "cell_type": "code",
   "execution_count": 22,
   "metadata": {},
   "outputs": [
    {
     "data": {
      "text/html": [
       "<div>\n",
       "<style scoped>\n",
       "    .dataframe tbody tr th:only-of-type {\n",
       "        vertical-align: middle;\n",
       "    }\n",
       "\n",
       "    .dataframe tbody tr th {\n",
       "        vertical-align: top;\n",
       "    }\n",
       "\n",
       "    .dataframe thead th {\n",
       "        text-align: right;\n",
       "    }\n",
       "</style>\n",
       "<table border=\"1\" class=\"dataframe\">\n",
       "  <thead>\n",
       "    <tr style=\"text-align: right;\">\n",
       "      <th></th>\n",
       "      <th>time</th>\n",
       "      <th>Cyclone_Inlet_Gas_Temp</th>\n",
       "      <th>Cyclone_Material_Temp</th>\n",
       "      <th>Cyclone_Outlet_Gas_draft</th>\n",
       "      <th>Cyclone_cone_draft</th>\n",
       "      <th>Cyclone_Gas_Outlet_Temp</th>\n",
       "      <th>Cyclone_Inlet_Draft</th>\n",
       "    </tr>\n",
       "  </thead>\n",
       "  <tbody>\n",
       "    <tr>\n",
       "      <th>0</th>\n",
       "      <td>2017-01-01 00:00:00</td>\n",
       "      <td>False</td>\n",
       "      <td>False</td>\n",
       "      <td>False</td>\n",
       "      <td>False</td>\n",
       "      <td>False</td>\n",
       "      <td>False</td>\n",
       "    </tr>\n",
       "    <tr>\n",
       "      <th>1</th>\n",
       "      <td>2017-01-01 00:05:00</td>\n",
       "      <td>False</td>\n",
       "      <td>False</td>\n",
       "      <td>False</td>\n",
       "      <td>False</td>\n",
       "      <td>False</td>\n",
       "      <td>False</td>\n",
       "    </tr>\n",
       "    <tr>\n",
       "      <th>2</th>\n",
       "      <td>2017-01-01 00:10:00</td>\n",
       "      <td>False</td>\n",
       "      <td>False</td>\n",
       "      <td>False</td>\n",
       "      <td>False</td>\n",
       "      <td>False</td>\n",
       "      <td>False</td>\n",
       "    </tr>\n",
       "    <tr>\n",
       "      <th>3</th>\n",
       "      <td>2017-01-01 00:15:00</td>\n",
       "      <td>False</td>\n",
       "      <td>False</td>\n",
       "      <td>False</td>\n",
       "      <td>False</td>\n",
       "      <td>False</td>\n",
       "      <td>False</td>\n",
       "    </tr>\n",
       "    <tr>\n",
       "      <th>4</th>\n",
       "      <td>2017-01-01 00:20:00</td>\n",
       "      <td>False</td>\n",
       "      <td>False</td>\n",
       "      <td>False</td>\n",
       "      <td>False</td>\n",
       "      <td>False</td>\n",
       "      <td>False</td>\n",
       "    </tr>\n",
       "  </tbody>\n",
       "</table>\n",
       "</div>"
      ],
      "text/plain": [
       "                 time  Cyclone_Inlet_Gas_Temp  Cyclone_Material_Temp  \\\n",
       "0 2017-01-01 00:00:00                   False                  False   \n",
       "1 2017-01-01 00:05:00                   False                  False   \n",
       "2 2017-01-01 00:10:00                   False                  False   \n",
       "3 2017-01-01 00:15:00                   False                  False   \n",
       "4 2017-01-01 00:20:00                   False                  False   \n",
       "\n",
       "   Cyclone_Outlet_Gas_draft  Cyclone_cone_draft  Cyclone_Gas_Outlet_Temp  \\\n",
       "0                     False               False                    False   \n",
       "1                     False               False                    False   \n",
       "2                     False               False                    False   \n",
       "3                     False               False                    False   \n",
       "4                     False               False                    False   \n",
       "\n",
       "   Cyclone_Inlet_Draft  \n",
       "0                False  \n",
       "1                False  \n",
       "2                False  \n",
       "3                False  \n",
       "4                False  "
      ]
     },
     "execution_count": 22,
     "metadata": {},
     "output_type": "execute_result"
    }
   ],
   "source": [
    "Anomaly = dftf\n",
    "Anomaly.head()"
   ]
  },
  {
   "cell_type": "code",
   "execution_count": 23,
   "metadata": {},
   "outputs": [
    {
     "data": {
      "text/html": [
       "<div>\n",
       "<style scoped>\n",
       "    .dataframe tbody tr th:only-of-type {\n",
       "        vertical-align: middle;\n",
       "    }\n",
       "\n",
       "    .dataframe tbody tr th {\n",
       "        vertical-align: top;\n",
       "    }\n",
       "\n",
       "    .dataframe thead th {\n",
       "        text-align: right;\n",
       "    }\n",
       "</style>\n",
       "<table border=\"1\" class=\"dataframe\">\n",
       "  <thead>\n",
       "    <tr style=\"text-align: right;\">\n",
       "      <th></th>\n",
       "      <th>time</th>\n",
       "      <th>Cyclone_Inlet_Gas_Temp</th>\n",
       "      <th>Cyclone_Material_Temp</th>\n",
       "      <th>Cyclone_Outlet_Gas_draft</th>\n",
       "      <th>Cyclone_cone_draft</th>\n",
       "      <th>Cyclone_Gas_Outlet_Temp</th>\n",
       "      <th>Cyclone_Inlet_Draft</th>\n",
       "    </tr>\n",
       "  </thead>\n",
       "  <tbody>\n",
       "    <tr>\n",
       "      <th>0</th>\n",
       "      <td>2017-01-01 00:00:00</td>\n",
       "      <td>False</td>\n",
       "      <td>False</td>\n",
       "      <td>False</td>\n",
       "      <td>False</td>\n",
       "      <td>False</td>\n",
       "      <td>False</td>\n",
       "    </tr>\n",
       "    <tr>\n",
       "      <th>1</th>\n",
       "      <td>2017-01-01 00:05:00</td>\n",
       "      <td>False</td>\n",
       "      <td>False</td>\n",
       "      <td>False</td>\n",
       "      <td>False</td>\n",
       "      <td>False</td>\n",
       "      <td>False</td>\n",
       "    </tr>\n",
       "    <tr>\n",
       "      <th>2</th>\n",
       "      <td>2017-01-01 00:10:00</td>\n",
       "      <td>False</td>\n",
       "      <td>False</td>\n",
       "      <td>False</td>\n",
       "      <td>False</td>\n",
       "      <td>False</td>\n",
       "      <td>False</td>\n",
       "    </tr>\n",
       "    <tr>\n",
       "      <th>3</th>\n",
       "      <td>2017-01-01 00:15:00</td>\n",
       "      <td>False</td>\n",
       "      <td>False</td>\n",
       "      <td>False</td>\n",
       "      <td>False</td>\n",
       "      <td>False</td>\n",
       "      <td>False</td>\n",
       "    </tr>\n",
       "    <tr>\n",
       "      <th>4</th>\n",
       "      <td>2017-01-01 00:20:00</td>\n",
       "      <td>False</td>\n",
       "      <td>False</td>\n",
       "      <td>False</td>\n",
       "      <td>False</td>\n",
       "      <td>False</td>\n",
       "      <td>False</td>\n",
       "    </tr>\n",
       "    <tr>\n",
       "      <th>...</th>\n",
       "      <td>...</td>\n",
       "      <td>...</td>\n",
       "      <td>...</td>\n",
       "      <td>...</td>\n",
       "      <td>...</td>\n",
       "      <td>...</td>\n",
       "      <td>...</td>\n",
       "    </tr>\n",
       "    <tr>\n",
       "      <th>377714</th>\n",
       "      <td>2020-08-07 11:55:00</td>\n",
       "      <td>False</td>\n",
       "      <td>False</td>\n",
       "      <td>False</td>\n",
       "      <td>False</td>\n",
       "      <td>False</td>\n",
       "      <td>False</td>\n",
       "    </tr>\n",
       "    <tr>\n",
       "      <th>377715</th>\n",
       "      <td>2020-08-07 12:00:00</td>\n",
       "      <td>False</td>\n",
       "      <td>False</td>\n",
       "      <td>False</td>\n",
       "      <td>False</td>\n",
       "      <td>False</td>\n",
       "      <td>False</td>\n",
       "    </tr>\n",
       "    <tr>\n",
       "      <th>377716</th>\n",
       "      <td>2020-08-07 12:05:00</td>\n",
       "      <td>False</td>\n",
       "      <td>False</td>\n",
       "      <td>False</td>\n",
       "      <td>False</td>\n",
       "      <td>False</td>\n",
       "      <td>False</td>\n",
       "    </tr>\n",
       "    <tr>\n",
       "      <th>377717</th>\n",
       "      <td>2020-08-07 12:10:00</td>\n",
       "      <td>False</td>\n",
       "      <td>False</td>\n",
       "      <td>False</td>\n",
       "      <td>False</td>\n",
       "      <td>False</td>\n",
       "      <td>False</td>\n",
       "    </tr>\n",
       "    <tr>\n",
       "      <th>377718</th>\n",
       "      <td>2020-08-07 12:15:00</td>\n",
       "      <td>False</td>\n",
       "      <td>False</td>\n",
       "      <td>False</td>\n",
       "      <td>False</td>\n",
       "      <td>False</td>\n",
       "      <td>False</td>\n",
       "    </tr>\n",
       "  </tbody>\n",
       "</table>\n",
       "<p>376124 rows × 7 columns</p>\n",
       "</div>"
      ],
      "text/plain": [
       "                      time  Cyclone_Inlet_Gas_Temp  Cyclone_Material_Temp  \\\n",
       "0      2017-01-01 00:00:00                   False                  False   \n",
       "1      2017-01-01 00:05:00                   False                  False   \n",
       "2      2017-01-01 00:10:00                   False                  False   \n",
       "3      2017-01-01 00:15:00                   False                  False   \n",
       "4      2017-01-01 00:20:00                   False                  False   \n",
       "...                    ...                     ...                    ...   \n",
       "377714 2020-08-07 11:55:00                   False                  False   \n",
       "377715 2020-08-07 12:00:00                   False                  False   \n",
       "377716 2020-08-07 12:05:00                   False                  False   \n",
       "377717 2020-08-07 12:10:00                   False                  False   \n",
       "377718 2020-08-07 12:15:00                   False                  False   \n",
       "\n",
       "        Cyclone_Outlet_Gas_draft  Cyclone_cone_draft  Cyclone_Gas_Outlet_Temp  \\\n",
       "0                          False               False                    False   \n",
       "1                          False               False                    False   \n",
       "2                          False               False                    False   \n",
       "3                          False               False                    False   \n",
       "4                          False               False                    False   \n",
       "...                          ...                 ...                      ...   \n",
       "377714                     False               False                    False   \n",
       "377715                     False               False                    False   \n",
       "377716                     False               False                    False   \n",
       "377717                     False               False                    False   \n",
       "377718                     False               False                    False   \n",
       "\n",
       "        Cyclone_Inlet_Draft  \n",
       "0                     False  \n",
       "1                     False  \n",
       "2                     False  \n",
       "3                     False  \n",
       "4                     False  \n",
       "...                     ...  \n",
       "377714                False  \n",
       "377715                False  \n",
       "377716                False  \n",
       "377717                False  \n",
       "377718                False  \n",
       "\n",
       "[376124 rows x 7 columns]"
      ]
     },
     "execution_count": 23,
     "metadata": {},
     "output_type": "execute_result"
    }
   ],
   "source": [
    "Anomaly"
   ]
  },
  {
   "cell_type": "code",
   "execution_count": 24,
   "metadata": {},
   "outputs": [],
   "source": [
    "Anomaly_IQR = Anomaly[(Anomaly.Cyclone_Inlet_Gas_Temp == True) | (Anomaly.Cyclone_Material_Temp == True) | (Anomaly.Cyclone_Outlet_Gas_draft == True) | (Anomaly.Cyclone_cone_draft == True) | (Anomaly.Cyclone_Gas_Outlet_Temp == True) | (Anomaly.Cyclone_Inlet_Draft == True)] "
   ]
  },
  {
   "cell_type": "code",
   "execution_count": 25,
   "metadata": {},
   "outputs": [
    {
     "data": {
      "text/html": [
       "<div>\n",
       "<style scoped>\n",
       "    .dataframe tbody tr th:only-of-type {\n",
       "        vertical-align: middle;\n",
       "    }\n",
       "\n",
       "    .dataframe tbody tr th {\n",
       "        vertical-align: top;\n",
       "    }\n",
       "\n",
       "    .dataframe thead th {\n",
       "        text-align: right;\n",
       "    }\n",
       "</style>\n",
       "<table border=\"1\" class=\"dataframe\">\n",
       "  <thead>\n",
       "    <tr style=\"text-align: right;\">\n",
       "      <th></th>\n",
       "      <th>time</th>\n",
       "      <th>Cyclone_Inlet_Gas_Temp</th>\n",
       "      <th>Cyclone_Material_Temp</th>\n",
       "      <th>Cyclone_Outlet_Gas_draft</th>\n",
       "      <th>Cyclone_cone_draft</th>\n",
       "      <th>Cyclone_Gas_Outlet_Temp</th>\n",
       "      <th>Cyclone_Inlet_Draft</th>\n",
       "    </tr>\n",
       "  </thead>\n",
       "  <tbody>\n",
       "    <tr>\n",
       "      <th>534</th>\n",
       "      <td>2017-01-02 20:30:00</td>\n",
       "      <td>True</td>\n",
       "      <td>False</td>\n",
       "      <td>False</td>\n",
       "      <td>False</td>\n",
       "      <td>False</td>\n",
       "      <td>False</td>\n",
       "    </tr>\n",
       "    <tr>\n",
       "      <th>535</th>\n",
       "      <td>2017-01-02 20:35:00</td>\n",
       "      <td>True</td>\n",
       "      <td>False</td>\n",
       "      <td>False</td>\n",
       "      <td>False</td>\n",
       "      <td>False</td>\n",
       "      <td>False</td>\n",
       "    </tr>\n",
       "    <tr>\n",
       "      <th>937</th>\n",
       "      <td>2017-01-04 06:05:00</td>\n",
       "      <td>True</td>\n",
       "      <td>False</td>\n",
       "      <td>False</td>\n",
       "      <td>False</td>\n",
       "      <td>False</td>\n",
       "      <td>False</td>\n",
       "    </tr>\n",
       "    <tr>\n",
       "      <th>938</th>\n",
       "      <td>2017-01-04 06:10:00</td>\n",
       "      <td>True</td>\n",
       "      <td>False</td>\n",
       "      <td>False</td>\n",
       "      <td>False</td>\n",
       "      <td>False</td>\n",
       "      <td>False</td>\n",
       "    </tr>\n",
       "    <tr>\n",
       "      <th>1079</th>\n",
       "      <td>2017-01-04 17:55:00</td>\n",
       "      <td>True</td>\n",
       "      <td>False</td>\n",
       "      <td>False</td>\n",
       "      <td>False</td>\n",
       "      <td>False</td>\n",
       "      <td>False</td>\n",
       "    </tr>\n",
       "    <tr>\n",
       "      <th>...</th>\n",
       "      <td>...</td>\n",
       "      <td>...</td>\n",
       "      <td>...</td>\n",
       "      <td>...</td>\n",
       "      <td>...</td>\n",
       "      <td>...</td>\n",
       "      <td>...</td>\n",
       "    </tr>\n",
       "    <tr>\n",
       "      <th>375420</th>\n",
       "      <td>2020-07-30 12:45:00</td>\n",
       "      <td>True</td>\n",
       "      <td>False</td>\n",
       "      <td>False</td>\n",
       "      <td>False</td>\n",
       "      <td>False</td>\n",
       "      <td>False</td>\n",
       "    </tr>\n",
       "    <tr>\n",
       "      <th>375421</th>\n",
       "      <td>2020-07-30 12:50:00</td>\n",
       "      <td>True</td>\n",
       "      <td>False</td>\n",
       "      <td>False</td>\n",
       "      <td>False</td>\n",
       "      <td>False</td>\n",
       "      <td>False</td>\n",
       "    </tr>\n",
       "    <tr>\n",
       "      <th>375422</th>\n",
       "      <td>2020-07-30 12:55:00</td>\n",
       "      <td>True</td>\n",
       "      <td>False</td>\n",
       "      <td>False</td>\n",
       "      <td>False</td>\n",
       "      <td>False</td>\n",
       "      <td>False</td>\n",
       "    </tr>\n",
       "    <tr>\n",
       "      <th>375423</th>\n",
       "      <td>2020-07-30 13:00:00</td>\n",
       "      <td>True</td>\n",
       "      <td>False</td>\n",
       "      <td>False</td>\n",
       "      <td>False</td>\n",
       "      <td>False</td>\n",
       "      <td>False</td>\n",
       "    </tr>\n",
       "    <tr>\n",
       "      <th>376344</th>\n",
       "      <td>2020-08-02 17:45:00</td>\n",
       "      <td>True</td>\n",
       "      <td>False</td>\n",
       "      <td>False</td>\n",
       "      <td>False</td>\n",
       "      <td>False</td>\n",
       "      <td>False</td>\n",
       "    </tr>\n",
       "  </tbody>\n",
       "</table>\n",
       "<p>90173 rows × 7 columns</p>\n",
       "</div>"
      ],
      "text/plain": [
       "                      time  Cyclone_Inlet_Gas_Temp  Cyclone_Material_Temp  \\\n",
       "534    2017-01-02 20:30:00                    True                  False   \n",
       "535    2017-01-02 20:35:00                    True                  False   \n",
       "937    2017-01-04 06:05:00                    True                  False   \n",
       "938    2017-01-04 06:10:00                    True                  False   \n",
       "1079   2017-01-04 17:55:00                    True                  False   \n",
       "...                    ...                     ...                    ...   \n",
       "375420 2020-07-30 12:45:00                    True                  False   \n",
       "375421 2020-07-30 12:50:00                    True                  False   \n",
       "375422 2020-07-30 12:55:00                    True                  False   \n",
       "375423 2020-07-30 13:00:00                    True                  False   \n",
       "376344 2020-08-02 17:45:00                    True                  False   \n",
       "\n",
       "        Cyclone_Outlet_Gas_draft  Cyclone_cone_draft  Cyclone_Gas_Outlet_Temp  \\\n",
       "534                        False               False                    False   \n",
       "535                        False               False                    False   \n",
       "937                        False               False                    False   \n",
       "938                        False               False                    False   \n",
       "1079                       False               False                    False   \n",
       "...                          ...                 ...                      ...   \n",
       "375420                     False               False                    False   \n",
       "375421                     False               False                    False   \n",
       "375422                     False               False                    False   \n",
       "375423                     False               False                    False   \n",
       "376344                     False               False                    False   \n",
       "\n",
       "        Cyclone_Inlet_Draft  \n",
       "534                   False  \n",
       "535                   False  \n",
       "937                   False  \n",
       "938                   False  \n",
       "1079                  False  \n",
       "...                     ...  \n",
       "375420                False  \n",
       "375421                False  \n",
       "375422                False  \n",
       "375423                False  \n",
       "376344                False  \n",
       "\n",
       "[90173 rows x 7 columns]"
      ]
     },
     "execution_count": 25,
     "metadata": {},
     "output_type": "execute_result"
    }
   ],
   "source": [
    "Anomaly_IQR"
   ]
  },
  {
   "cell_type": "code",
   "execution_count": 26,
   "metadata": {},
   "outputs": [],
   "source": [
    "Anomaly_IQR.to_csv('Anomaly_IQR.csv')"
   ]
  },
  {
   "cell_type": "code",
   "execution_count": null,
   "metadata": {},
   "outputs": [],
   "source": []
  },
  {
   "cell_type": "code",
   "execution_count": null,
   "metadata": {},
   "outputs": [],
   "source": [
    "#Isolation Forest Method"
   ]
  },
  {
   "cell_type": "code",
   "execution_count": 27,
   "metadata": {},
   "outputs": [
    {
     "data": {
      "text/plain": [
       "time                        datetime64[ns]\n",
       "Cyclone_Inlet_Gas_Temp             float64\n",
       "Cyclone_Material_Temp              float64\n",
       "Cyclone_Outlet_Gas_draft           float64\n",
       "Cyclone_cone_draft                 float64\n",
       "Cyclone_Gas_Outlet_Temp            float64\n",
       "Cyclone_Inlet_Draft                float64\n",
       "dtype: object"
      ]
     },
     "execution_count": 27,
     "metadata": {},
     "output_type": "execute_result"
    }
   ],
   "source": [
    "dbtc.dtypes"
   ]
  },
  {
   "cell_type": "code",
   "execution_count": 30,
   "metadata": {},
   "outputs": [
    {
     "data": {
      "text/html": [
       "<div>\n",
       "<style scoped>\n",
       "    .dataframe tbody tr th:only-of-type {\n",
       "        vertical-align: middle;\n",
       "    }\n",
       "\n",
       "    .dataframe tbody tr th {\n",
       "        vertical-align: top;\n",
       "    }\n",
       "\n",
       "    .dataframe thead th {\n",
       "        text-align: right;\n",
       "    }\n",
       "</style>\n",
       "<table border=\"1\" class=\"dataframe\">\n",
       "  <thead>\n",
       "    <tr style=\"text-align: right;\">\n",
       "      <th></th>\n",
       "      <th>time</th>\n",
       "      <th>Cyclone_Inlet_Gas_Temp</th>\n",
       "      <th>Cyclone_Material_Temp</th>\n",
       "      <th>Cyclone_Outlet_Gas_draft</th>\n",
       "      <th>Cyclone_cone_draft</th>\n",
       "      <th>Cyclone_Gas_Outlet_Temp</th>\n",
       "      <th>Cyclone_Inlet_Draft</th>\n",
       "    </tr>\n",
       "  </thead>\n",
       "  <tbody>\n",
       "    <tr>\n",
       "      <th>0</th>\n",
       "      <td>2017-01-01 00:00:00</td>\n",
       "      <td>867.63</td>\n",
       "      <td>910.42</td>\n",
       "      <td>-189.54</td>\n",
       "      <td>-186.04</td>\n",
       "      <td>852.13</td>\n",
       "      <td>-145.90</td>\n",
       "    </tr>\n",
       "    <tr>\n",
       "      <th>1</th>\n",
       "      <td>2017-01-01 00:05:00</td>\n",
       "      <td>879.23</td>\n",
       "      <td>918.14</td>\n",
       "      <td>-184.33</td>\n",
       "      <td>-182.10</td>\n",
       "      <td>862.53</td>\n",
       "      <td>-149.76</td>\n",
       "    </tr>\n",
       "    <tr>\n",
       "      <th>2</th>\n",
       "      <td>2017-01-01 00:10:00</td>\n",
       "      <td>875.67</td>\n",
       "      <td>924.18</td>\n",
       "      <td>-181.26</td>\n",
       "      <td>-166.47</td>\n",
       "      <td>866.06</td>\n",
       "      <td>-145.01</td>\n",
       "    </tr>\n",
       "    <tr>\n",
       "      <th>3</th>\n",
       "      <td>2017-01-01 00:15:00</td>\n",
       "      <td>875.28</td>\n",
       "      <td>923.15</td>\n",
       "      <td>-179.15</td>\n",
       "      <td>-174.83</td>\n",
       "      <td>865.85</td>\n",
       "      <td>-142.82</td>\n",
       "    </tr>\n",
       "    <tr>\n",
       "      <th>4</th>\n",
       "      <td>2017-01-01 00:20:00</td>\n",
       "      <td>891.66</td>\n",
       "      <td>934.26</td>\n",
       "      <td>-178.32</td>\n",
       "      <td>-173.72</td>\n",
       "      <td>876.06</td>\n",
       "      <td>-143.39</td>\n",
       "    </tr>\n",
       "    <tr>\n",
       "      <th>...</th>\n",
       "      <td>...</td>\n",
       "      <td>...</td>\n",
       "      <td>...</td>\n",
       "      <td>...</td>\n",
       "      <td>...</td>\n",
       "      <td>...</td>\n",
       "      <td>...</td>\n",
       "    </tr>\n",
       "    <tr>\n",
       "      <th>377714</th>\n",
       "      <td>2020-08-07 11:55:00</td>\n",
       "      <td>899.42</td>\n",
       "      <td>919.79</td>\n",
       "      <td>-224.07</td>\n",
       "      <td>-209.77</td>\n",
       "      <td>901.01</td>\n",
       "      <td>-175.15</td>\n",
       "    </tr>\n",
       "    <tr>\n",
       "      <th>377715</th>\n",
       "      <td>2020-08-07 12:00:00</td>\n",
       "      <td>879.90</td>\n",
       "      <td>895.02</td>\n",
       "      <td>-228.04</td>\n",
       "      <td>-211.28</td>\n",
       "      <td>878.08</td>\n",
       "      <td>-176.94</td>\n",
       "    </tr>\n",
       "    <tr>\n",
       "      <th>377716</th>\n",
       "      <td>2020-08-07 12:05:00</td>\n",
       "      <td>887.20</td>\n",
       "      <td>895.70</td>\n",
       "      <td>-230.11</td>\n",
       "      <td>-214.65</td>\n",
       "      <td>885.32</td>\n",
       "      <td>-179.18</td>\n",
       "    </tr>\n",
       "    <tr>\n",
       "      <th>377717</th>\n",
       "      <td>2020-08-07 12:10:00</td>\n",
       "      <td>908.50</td>\n",
       "      <td>916.33</td>\n",
       "      <td>-231.51</td>\n",
       "      <td>-218.09</td>\n",
       "      <td>906.20</td>\n",
       "      <td>-181.96</td>\n",
       "    </tr>\n",
       "    <tr>\n",
       "      <th>377718</th>\n",
       "      <td>2020-08-07 12:15:00</td>\n",
       "      <td>880.86</td>\n",
       "      <td>905.31</td>\n",
       "      <td>-235.02</td>\n",
       "      <td>-219.44</td>\n",
       "      <td>882.10</td>\n",
       "      <td>-184.02</td>\n",
       "    </tr>\n",
       "  </tbody>\n",
       "</table>\n",
       "<p>376124 rows × 7 columns</p>\n",
       "</div>"
      ],
      "text/plain": [
       "                      time  Cyclone_Inlet_Gas_Temp  Cyclone_Material_Temp  \\\n",
       "0      2017-01-01 00:00:00                  867.63                 910.42   \n",
       "1      2017-01-01 00:05:00                  879.23                 918.14   \n",
       "2      2017-01-01 00:10:00                  875.67                 924.18   \n",
       "3      2017-01-01 00:15:00                  875.28                 923.15   \n",
       "4      2017-01-01 00:20:00                  891.66                 934.26   \n",
       "...                    ...                     ...                    ...   \n",
       "377714 2020-08-07 11:55:00                  899.42                 919.79   \n",
       "377715 2020-08-07 12:00:00                  879.90                 895.02   \n",
       "377716 2020-08-07 12:05:00                  887.20                 895.70   \n",
       "377717 2020-08-07 12:10:00                  908.50                 916.33   \n",
       "377718 2020-08-07 12:15:00                  880.86                 905.31   \n",
       "\n",
       "        Cyclone_Outlet_Gas_draft  Cyclone_cone_draft  Cyclone_Gas_Outlet_Temp  \\\n",
       "0                        -189.54             -186.04                   852.13   \n",
       "1                        -184.33             -182.10                   862.53   \n",
       "2                        -181.26             -166.47                   866.06   \n",
       "3                        -179.15             -174.83                   865.85   \n",
       "4                        -178.32             -173.72                   876.06   \n",
       "...                          ...                 ...                      ...   \n",
       "377714                   -224.07             -209.77                   901.01   \n",
       "377715                   -228.04             -211.28                   878.08   \n",
       "377716                   -230.11             -214.65                   885.32   \n",
       "377717                   -231.51             -218.09                   906.20   \n",
       "377718                   -235.02             -219.44                   882.10   \n",
       "\n",
       "        Cyclone_Inlet_Draft  \n",
       "0                   -145.90  \n",
       "1                   -149.76  \n",
       "2                   -145.01  \n",
       "3                   -142.82  \n",
       "4                   -143.39  \n",
       "...                     ...  \n",
       "377714              -175.15  \n",
       "377715              -176.94  \n",
       "377716              -179.18  \n",
       "377717              -181.96  \n",
       "377718              -184.02  \n",
       "\n",
       "[376124 rows x 7 columns]"
      ]
     },
     "execution_count": 30,
     "metadata": {},
     "output_type": "execute_result"
    }
   ],
   "source": [
    "df_out = dbtc\n",
    "df_out"
   ]
  },
  {
   "cell_type": "code",
   "execution_count": 31,
   "metadata": {},
   "outputs": [
    {
     "name": "stderr",
     "output_type": "stream",
     "text": [
      "C:\\Users\\kdeep\\anaconda3\\lib\\site-packages\\sklearn\\ensemble\\_bagging.py:352: UserWarning: Warm-start fitting without increasing n_estimators does not fit new trees.\n",
      "  warn(\"Warm-start fitting without increasing n_estimators does not \"\n"
     ]
    },
    {
     "data": {
      "text/html": [
       "<div>\n",
       "<style scoped>\n",
       "    .dataframe tbody tr th:only-of-type {\n",
       "        vertical-align: middle;\n",
       "    }\n",
       "\n",
       "    .dataframe tbody tr th {\n",
       "        vertical-align: top;\n",
       "    }\n",
       "\n",
       "    .dataframe thead th {\n",
       "        text-align: right;\n",
       "    }\n",
       "</style>\n",
       "<table border=\"1\" class=\"dataframe\">\n",
       "  <thead>\n",
       "    <tr style=\"text-align: right;\">\n",
       "      <th></th>\n",
       "      <th>time</th>\n",
       "      <th>Cyclone_Inlet_Gas_Temp</th>\n",
       "      <th>Cyclone_Material_Temp</th>\n",
       "      <th>Cyclone_Outlet_Gas_draft</th>\n",
       "      <th>Cyclone_cone_draft</th>\n",
       "      <th>Cyclone_Gas_Outlet_Temp</th>\n",
       "      <th>Cyclone_Inlet_Draft</th>\n",
       "      <th>Anomaly</th>\n",
       "    </tr>\n",
       "  </thead>\n",
       "  <tbody>\n",
       "    <tr>\n",
       "      <th>0</th>\n",
       "      <td>2017-01-01 00:00:00</td>\n",
       "      <td>867.63</td>\n",
       "      <td>910.42</td>\n",
       "      <td>-189.54</td>\n",
       "      <td>-186.04</td>\n",
       "      <td>852.13</td>\n",
       "      <td>-145.90</td>\n",
       "      <td>1</td>\n",
       "    </tr>\n",
       "    <tr>\n",
       "      <th>1</th>\n",
       "      <td>2017-01-01 00:05:00</td>\n",
       "      <td>879.23</td>\n",
       "      <td>918.14</td>\n",
       "      <td>-184.33</td>\n",
       "      <td>-182.10</td>\n",
       "      <td>862.53</td>\n",
       "      <td>-149.76</td>\n",
       "      <td>1</td>\n",
       "    </tr>\n",
       "    <tr>\n",
       "      <th>2</th>\n",
       "      <td>2017-01-01 00:10:00</td>\n",
       "      <td>875.67</td>\n",
       "      <td>924.18</td>\n",
       "      <td>-181.26</td>\n",
       "      <td>-166.47</td>\n",
       "      <td>866.06</td>\n",
       "      <td>-145.01</td>\n",
       "      <td>1</td>\n",
       "    </tr>\n",
       "    <tr>\n",
       "      <th>3</th>\n",
       "      <td>2017-01-01 00:15:00</td>\n",
       "      <td>875.28</td>\n",
       "      <td>923.15</td>\n",
       "      <td>-179.15</td>\n",
       "      <td>-174.83</td>\n",
       "      <td>865.85</td>\n",
       "      <td>-142.82</td>\n",
       "      <td>1</td>\n",
       "    </tr>\n",
       "    <tr>\n",
       "      <th>4</th>\n",
       "      <td>2017-01-01 00:20:00</td>\n",
       "      <td>891.66</td>\n",
       "      <td>934.26</td>\n",
       "      <td>-178.32</td>\n",
       "      <td>-173.72</td>\n",
       "      <td>876.06</td>\n",
       "      <td>-143.39</td>\n",
       "      <td>1</td>\n",
       "    </tr>\n",
       "  </tbody>\n",
       "</table>\n",
       "</div>"
      ],
      "text/plain": [
       "                 time  Cyclone_Inlet_Gas_Temp  Cyclone_Material_Temp  \\\n",
       "0 2017-01-01 00:00:00                  867.63                 910.42   \n",
       "1 2017-01-01 00:05:00                  879.23                 918.14   \n",
       "2 2017-01-01 00:10:00                  875.67                 924.18   \n",
       "3 2017-01-01 00:15:00                  875.28                 923.15   \n",
       "4 2017-01-01 00:20:00                  891.66                 934.26   \n",
       "\n",
       "   Cyclone_Outlet_Gas_draft  Cyclone_cone_draft  Cyclone_Gas_Outlet_Temp  \\\n",
       "0                   -189.54             -186.04                   852.13   \n",
       "1                   -184.33             -182.10                   862.53   \n",
       "2                   -181.26             -166.47                   866.06   \n",
       "3                   -179.15             -174.83                   865.85   \n",
       "4                   -178.32             -173.72                   876.06   \n",
       "\n",
       "   Cyclone_Inlet_Draft  Anomaly  \n",
       "0              -145.90        1  \n",
       "1              -149.76        1  \n",
       "2              -145.01        1  \n",
       "3              -142.82        1  \n",
       "4              -143.39        1  "
      ]
     },
     "execution_count": 31,
     "metadata": {},
     "output_type": "execute_result"
    }
   ],
   "source": [
    "import numpy as np\n",
    "from sklearn.ensemble import IsolationForest\n",
    "df_IF = dbtd\n",
    "#df_out.loc[:, df_out.dtypes != object]\n",
    "#df_IF\n",
    "clf = IsolationForest(n_estimators=20, warm_start=True)\n",
    "clf.fit(df_IF)\n",
    "df_out['Anomaly'] = clf.fit_predict(df_IF)\n",
    "df_out.head()"
   ]
  },
  {
   "cell_type": "code",
   "execution_count": 32,
   "metadata": {},
   "outputs": [],
   "source": [
    "Anomaly_IFM = df_out[(df_out.Anomaly == -1)]"
   ]
  },
  {
   "cell_type": "code",
   "execution_count": 33,
   "metadata": {},
   "outputs": [
    {
     "data": {
      "text/html": [
       "<div>\n",
       "<style scoped>\n",
       "    .dataframe tbody tr th:only-of-type {\n",
       "        vertical-align: middle;\n",
       "    }\n",
       "\n",
       "    .dataframe tbody tr th {\n",
       "        vertical-align: top;\n",
       "    }\n",
       "\n",
       "    .dataframe thead th {\n",
       "        text-align: right;\n",
       "    }\n",
       "</style>\n",
       "<table border=\"1\" class=\"dataframe\">\n",
       "  <thead>\n",
       "    <tr style=\"text-align: right;\">\n",
       "      <th></th>\n",
       "      <th>time</th>\n",
       "      <th>Cyclone_Inlet_Gas_Temp</th>\n",
       "      <th>Cyclone_Material_Temp</th>\n",
       "      <th>Cyclone_Outlet_Gas_draft</th>\n",
       "      <th>Cyclone_cone_draft</th>\n",
       "      <th>Cyclone_Gas_Outlet_Temp</th>\n",
       "      <th>Cyclone_Inlet_Draft</th>\n",
       "      <th>Anomaly</th>\n",
       "    </tr>\n",
       "  </thead>\n",
       "  <tbody>\n",
       "    <tr>\n",
       "      <th>930</th>\n",
       "      <td>2017-01-04 05:30:00</td>\n",
       "      <td>800.05</td>\n",
       "      <td>844.06</td>\n",
       "      <td>-87.79</td>\n",
       "      <td>-90.94</td>\n",
       "      <td>778.81</td>\n",
       "      <td>-64.97</td>\n",
       "      <td>-1</td>\n",
       "    </tr>\n",
       "    <tr>\n",
       "      <th>931</th>\n",
       "      <td>2017-01-04 05:35:00</td>\n",
       "      <td>909.47</td>\n",
       "      <td>897.36</td>\n",
       "      <td>-79.87</td>\n",
       "      <td>-92.26</td>\n",
       "      <td>841.75</td>\n",
       "      <td>-62.74</td>\n",
       "      <td>-1</td>\n",
       "    </tr>\n",
       "    <tr>\n",
       "      <th>932</th>\n",
       "      <td>2017-01-04 05:40:00</td>\n",
       "      <td>895.68</td>\n",
       "      <td>935.48</td>\n",
       "      <td>-82.56</td>\n",
       "      <td>-85.05</td>\n",
       "      <td>853.94</td>\n",
       "      <td>-68.29</td>\n",
       "      <td>-1</td>\n",
       "    </tr>\n",
       "    <tr>\n",
       "      <th>933</th>\n",
       "      <td>2017-01-04 05:45:00</td>\n",
       "      <td>910.73</td>\n",
       "      <td>900.23</td>\n",
       "      <td>-105.15</td>\n",
       "      <td>-104.13</td>\n",
       "      <td>848.56</td>\n",
       "      <td>-84.33</td>\n",
       "      <td>-1</td>\n",
       "    </tr>\n",
       "    <tr>\n",
       "      <th>934</th>\n",
       "      <td>2017-01-04 05:50:00</td>\n",
       "      <td>921.10</td>\n",
       "      <td>908.25</td>\n",
       "      <td>-116.70</td>\n",
       "      <td>-103.82</td>\n",
       "      <td>848.24</td>\n",
       "      <td>-93.53</td>\n",
       "      <td>-1</td>\n",
       "    </tr>\n",
       "    <tr>\n",
       "      <th>...</th>\n",
       "      <td>...</td>\n",
       "      <td>...</td>\n",
       "      <td>...</td>\n",
       "      <td>...</td>\n",
       "      <td>...</td>\n",
       "      <td>...</td>\n",
       "      <td>...</td>\n",
       "      <td>...</td>\n",
       "    </tr>\n",
       "    <tr>\n",
       "      <th>375433</th>\n",
       "      <td>2020-07-30 13:50:00</td>\n",
       "      <td>954.98</td>\n",
       "      <td>997.39</td>\n",
       "      <td>-132.12</td>\n",
       "      <td>-134.94</td>\n",
       "      <td>904.95</td>\n",
       "      <td>-113.93</td>\n",
       "      <td>-1</td>\n",
       "    </tr>\n",
       "    <tr>\n",
       "      <th>375434</th>\n",
       "      <td>2020-07-30 13:55:00</td>\n",
       "      <td>934.50</td>\n",
       "      <td>950.09</td>\n",
       "      <td>-129.70</td>\n",
       "      <td>-130.22</td>\n",
       "      <td>901.76</td>\n",
       "      <td>-105.14</td>\n",
       "      <td>-1</td>\n",
       "    </tr>\n",
       "    <tr>\n",
       "      <th>375943</th>\n",
       "      <td>2020-08-01 08:20:00</td>\n",
       "      <td>882.80</td>\n",
       "      <td>877.47</td>\n",
       "      <td>-108.58</td>\n",
       "      <td>-78.68</td>\n",
       "      <td>887.66</td>\n",
       "      <td>-101.10</td>\n",
       "      <td>-1</td>\n",
       "    </tr>\n",
       "    <tr>\n",
       "      <th>376344</th>\n",
       "      <td>2020-08-02 17:45:00</td>\n",
       "      <td>984.83</td>\n",
       "      <td>1007.36</td>\n",
       "      <td>-224.56</td>\n",
       "      <td>-210.15</td>\n",
       "      <td>977.95</td>\n",
       "      <td>-176.25</td>\n",
       "      <td>-1</td>\n",
       "    </tr>\n",
       "    <tr>\n",
       "      <th>376524</th>\n",
       "      <td>2020-08-03 08:45:00</td>\n",
       "      <td>878.57</td>\n",
       "      <td>867.20</td>\n",
       "      <td>-289.82</td>\n",
       "      <td>-237.38</td>\n",
       "      <td>875.34</td>\n",
       "      <td>-233.50</td>\n",
       "      <td>-1</td>\n",
       "    </tr>\n",
       "  </tbody>\n",
       "</table>\n",
       "<p>52965 rows × 8 columns</p>\n",
       "</div>"
      ],
      "text/plain": [
       "                      time  Cyclone_Inlet_Gas_Temp  Cyclone_Material_Temp  \\\n",
       "930    2017-01-04 05:30:00                  800.05                 844.06   \n",
       "931    2017-01-04 05:35:00                  909.47                 897.36   \n",
       "932    2017-01-04 05:40:00                  895.68                 935.48   \n",
       "933    2017-01-04 05:45:00                  910.73                 900.23   \n",
       "934    2017-01-04 05:50:00                  921.10                 908.25   \n",
       "...                    ...                     ...                    ...   \n",
       "375433 2020-07-30 13:50:00                  954.98                 997.39   \n",
       "375434 2020-07-30 13:55:00                  934.50                 950.09   \n",
       "375943 2020-08-01 08:20:00                  882.80                 877.47   \n",
       "376344 2020-08-02 17:45:00                  984.83                1007.36   \n",
       "376524 2020-08-03 08:45:00                  878.57                 867.20   \n",
       "\n",
       "        Cyclone_Outlet_Gas_draft  Cyclone_cone_draft  Cyclone_Gas_Outlet_Temp  \\\n",
       "930                       -87.79              -90.94                   778.81   \n",
       "931                       -79.87              -92.26                   841.75   \n",
       "932                       -82.56              -85.05                   853.94   \n",
       "933                      -105.15             -104.13                   848.56   \n",
       "934                      -116.70             -103.82                   848.24   \n",
       "...                          ...                 ...                      ...   \n",
       "375433                   -132.12             -134.94                   904.95   \n",
       "375434                   -129.70             -130.22                   901.76   \n",
       "375943                   -108.58              -78.68                   887.66   \n",
       "376344                   -224.56             -210.15                   977.95   \n",
       "376524                   -289.82             -237.38                   875.34   \n",
       "\n",
       "        Cyclone_Inlet_Draft  Anomaly  \n",
       "930                  -64.97       -1  \n",
       "931                  -62.74       -1  \n",
       "932                  -68.29       -1  \n",
       "933                  -84.33       -1  \n",
       "934                  -93.53       -1  \n",
       "...                     ...      ...  \n",
       "375433              -113.93       -1  \n",
       "375434              -105.14       -1  \n",
       "375943              -101.10       -1  \n",
       "376344              -176.25       -1  \n",
       "376524              -233.50       -1  \n",
       "\n",
       "[52965 rows x 8 columns]"
      ]
     },
     "execution_count": 33,
     "metadata": {},
     "output_type": "execute_result"
    }
   ],
   "source": [
    "Anomaly_IFM"
   ]
  },
  {
   "cell_type": "code",
   "execution_count": 34,
   "metadata": {},
   "outputs": [],
   "source": [
    "Anomaly_IFM.to_csv('Anomaly_IFM.csv')"
   ]
  },
  {
   "cell_type": "code",
   "execution_count": 54,
   "metadata": {},
   "outputs": [],
   "source": [
    "dftb=pd.concat([dfa, sf3], join = 'outer', axis = 1)"
   ]
  },
  {
   "cell_type": "code",
   "execution_count": 61,
   "metadata": {},
   "outputs": [
    {
     "data": {
      "text/plain": [
       "time                           0\n",
       "Cyclone_Inlet_Gas_Temp      1320\n",
       "Cyclone_Material_Temp       1591\n",
       "Cyclone_Outlet_Gas_draft    1321\n",
       "Cyclone_cone_draft          1320\n",
       "Cyclone_Gas_Outlet_Temp     1321\n",
       "Cyclone_Inlet_Draft         1322\n",
       "dtype: int64"
      ]
     },
     "execution_count": 61,
     "metadata": {},
     "output_type": "execute_result"
    }
   ],
   "source": [
    "dftb.isna().sum()"
   ]
  },
  {
   "cell_type": "code",
   "execution_count": 39,
   "metadata": {},
   "outputs": [],
   "source": [
    "# Selecting Time and Cyclone_Inlet_Gas_Temp feature from the dataset\n",
    "\n",
    "\n",
    "data1=dftb[[\"time\",\"Cyclone_Inlet_Gas_Temp\"]]"
   ]
  },
  {
   "cell_type": "code",
   "execution_count": 40,
   "metadata": {},
   "outputs": [
    {
     "data": {
      "text/plain": [
       "time                      datetime64[ns]\n",
       "Cyclone_Inlet_Gas_Temp           float64\n",
       "dtype: object"
      ]
     },
     "execution_count": 40,
     "metadata": {},
     "output_type": "execute_result"
    }
   ],
   "source": [
    "data1.dtypes"
   ]
  },
  {
   "cell_type": "code",
   "execution_count": 41,
   "metadata": {},
   "outputs": [
    {
     "data": {
      "text/plain": [
       "time                         0\n",
       "Cyclone_Inlet_Gas_Temp    1320\n",
       "dtype: int64"
      ]
     },
     "execution_count": 41,
     "metadata": {},
     "output_type": "execute_result"
    }
   ],
   "source": [
    "#checking for null values\n",
    "\n",
    "data1.isna().sum()"
   ]
  },
  {
   "cell_type": "code",
   "execution_count": 42,
   "metadata": {},
   "outputs": [],
   "source": [
    "#Filling Null values with zero\n",
    "\n",
    "data1 = data1.fillna(0)"
   ]
  },
  {
   "cell_type": "code",
   "execution_count": 43,
   "metadata": {},
   "outputs": [],
   "source": [
    "# Using Isolation Forest algorithm to detect outliers/Anomaly\n",
    "\n",
    "\n",
    "from sklearn.preprocessing import StandardScaler\n",
    "from sklearn.ensemble import IsolationForest\n",
    "outliers_fraction = 0.01\n",
    "\n",
    "data = data1[['Cyclone_Inlet_Gas_Temp']]\n",
    "scaler = StandardScaler()\n",
    "np_scaled = scaler.fit_transform(data)\n",
    "data = pd.DataFrame(np_scaled)\n",
    "# train isolation forest\n",
    "model =  IsolationForest(contamination=outliers_fraction)\n",
    "model.fit(data) \n",
    "data1['anomaly2'] = pd.Series(model.predict(data))"
   ]
  },
  {
   "cell_type": "code",
   "execution_count": 44,
   "metadata": {},
   "outputs": [
    {
     "data": {
      "image/png": "[encoded data removed]",
      "text/plain": [
       "<Figure size 1440x432 with 1 Axes>"
      ]
     },
     "metadata": {
      "needs_background": "light"
     },
     "output_type": "display_data"
    }
   ],
   "source": [
    "# visualization\n",
    "\n",
    "fig, ax = plt.subplots(figsize=(20,6))\n",
    "\n",
    "a = data1.loc[data1['anomaly2'] == -1, ['time', 'Cyclone_Inlet_Gas_Temp']] #anomaly\n",
    "\n",
    "ax.plot(data1['time'], data1['Cyclone_Inlet_Gas_Temp'], color='blue', label = 'Normal')\n",
    "ax.scatter(a['time'],a['Cyclone_Inlet_Gas_Temp'], color='red', label = 'Anomaly')\n",
    "plt.legend()\n",
    "plt.show()"
   ]
  },
  {
   "cell_type": "code",
   "execution_count": 45,
   "metadata": {},
   "outputs": [],
   "source": [
    "p1 = data1"
   ]
  },
  {
   "cell_type": "code",
   "execution_count": 46,
   "metadata": {},
   "outputs": [],
   "source": [
    "#creating a dataframe of all the anomalies\n",
    "\n",
    "ano_1 = p1[p1['anomaly2']==-1]"
   ]
  },
  {
   "cell_type": "code",
   "execution_count": 47,
   "metadata": {},
   "outputs": [
    {
     "data": {
      "text/html": [
       "<div>\n",
       "<style scoped>\n",
       "    .dataframe tbody tr th:only-of-type {\n",
       "        vertical-align: middle;\n",
       "    }\n",
       "\n",
       "    .dataframe tbody tr th {\n",
       "        vertical-align: top;\n",
       "    }\n",
       "\n",
       "    .dataframe thead th {\n",
       "        text-align: right;\n",
       "    }\n",
       "</style>\n",
       "<table border=\"1\" class=\"dataframe\">\n",
       "  <thead>\n",
       "    <tr style=\"text-align: right;\">\n",
       "      <th></th>\n",
       "      <th>time</th>\n",
       "      <th>Cyclone_Inlet_Gas_Temp</th>\n",
       "      <th>anomaly2</th>\n",
       "    </tr>\n",
       "  </thead>\n",
       "  <tbody>\n",
       "    <tr>\n",
       "      <th>1726</th>\n",
       "      <td>2017-01-06 23:50:00</td>\n",
       "      <td>1007.18</td>\n",
       "      <td>-1</td>\n",
       "    </tr>\n",
       "    <tr>\n",
       "      <th>4944</th>\n",
       "      <td>2017-01-18 04:00:00</td>\n",
       "      <td>1085.38</td>\n",
       "      <td>-1</td>\n",
       "    </tr>\n",
       "    <tr>\n",
       "      <th>4945</th>\n",
       "      <td>2017-01-18 04:05:00</td>\n",
       "      <td>1045.54</td>\n",
       "      <td>-1</td>\n",
       "    </tr>\n",
       "    <tr>\n",
       "      <th>6329</th>\n",
       "      <td>2017-01-22 23:25:00</td>\n",
       "      <td>1039.03</td>\n",
       "      <td>-1</td>\n",
       "    </tr>\n",
       "    <tr>\n",
       "      <th>6330</th>\n",
       "      <td>2017-01-22 23:30:00</td>\n",
       "      <td>1057.17</td>\n",
       "      <td>-1</td>\n",
       "    </tr>\n",
       "    <tr>\n",
       "      <th>...</th>\n",
       "      <td>...</td>\n",
       "      <td>...</td>\n",
       "      <td>...</td>\n",
       "    </tr>\n",
       "    <tr>\n",
       "      <th>374621</th>\n",
       "      <td>2020-07-27 18:10:00</td>\n",
       "      <td>1050.51</td>\n",
       "      <td>-1</td>\n",
       "    </tr>\n",
       "    <tr>\n",
       "      <th>374624</th>\n",
       "      <td>2020-07-27 18:25:00</td>\n",
       "      <td>1083.55</td>\n",
       "      <td>-1</td>\n",
       "    </tr>\n",
       "    <tr>\n",
       "      <th>375420</th>\n",
       "      <td>2020-07-30 12:45:00</td>\n",
       "      <td>1012.84</td>\n",
       "      <td>-1</td>\n",
       "    </tr>\n",
       "    <tr>\n",
       "      <th>375421</th>\n",
       "      <td>2020-07-30 12:50:00</td>\n",
       "      <td>1025.83</td>\n",
       "      <td>-1</td>\n",
       "    </tr>\n",
       "    <tr>\n",
       "      <th>375422</th>\n",
       "      <td>2020-07-30 12:55:00</td>\n",
       "      <td>1028.53</td>\n",
       "      <td>-1</td>\n",
       "    </tr>\n",
       "  </tbody>\n",
       "</table>\n",
       "<p>3862 rows × 3 columns</p>\n",
       "</div>"
      ],
      "text/plain": [
       "                      time  Cyclone_Inlet_Gas_Temp  anomaly2\n",
       "1726   2017-01-06 23:50:00                 1007.18        -1\n",
       "4944   2017-01-18 04:00:00                 1085.38        -1\n",
       "4945   2017-01-18 04:05:00                 1045.54        -1\n",
       "6329   2017-01-22 23:25:00                 1039.03        -1\n",
       "6330   2017-01-22 23:30:00                 1057.17        -1\n",
       "...                    ...                     ...       ...\n",
       "374621 2020-07-27 18:10:00                 1050.51        -1\n",
       "374624 2020-07-27 18:25:00                 1083.55        -1\n",
       "375420 2020-07-30 12:45:00                 1012.84        -1\n",
       "375421 2020-07-30 12:50:00                 1025.83        -1\n",
       "375422 2020-07-30 12:55:00                 1028.53        -1\n",
       "\n",
       "[3862 rows x 3 columns]"
      ]
     },
     "execution_count": 47,
     "metadata": {},
     "output_type": "execute_result"
    }
   ],
   "source": [
    "ano_1"
   ]
  },
  {
   "cell_type": "code",
   "execution_count": 48,
   "metadata": {},
   "outputs": [
    {
     "data": {
      "image/png": "[encoded data removed]",
      "text/plain": [
       "<Figure size 1440x432 with 1 Axes>"
      ]
     },
     "metadata": {
      "needs_background": "light"
     },
     "output_type": "display_data"
    }
   ],
   "source": [
    "#visulisation of all the anomalies\n",
    "\n",
    "fig, ax = plt.subplots(figsize=(20,6))\n",
    "\n",
    "a = ano_1.loc[data1['anomaly2'] == -1, ['time', 'Cyclone_Inlet_Gas_Temp']] #anomaly\n",
    "\n",
    "#ax.plot(ano_1['time'], ano_1['Cyclone_cone_draft'], color='blue', label = 'Normal')\n",
    "ax.scatter(a['time'],a['Cyclone_Inlet_Gas_Temp'], color='red', label = 'Anomaly')\n",
    "plt.legend()\n",
    "plt.show();"
   ]
  },
  {
   "cell_type": "code",
   "execution_count": 49,
   "metadata": {},
   "outputs": [],
   "source": [
    "#Converting anomaly dataframe to csv\n",
    "\n",
    "ano_1.to_csv('Anomaly_Cyclone_Inlet_Gas_Temp.csv')"
   ]
  },
  {
   "cell_type": "code",
   "execution_count": null,
   "metadata": {},
   "outputs": [],
   "source": [
    "#Similarly doing the above with Cyclone_cone_draft attribute"
   ]
  },
  {
   "cell_type": "code",
   "execution_count": 59,
   "metadata": {},
   "outputs": [],
   "source": [
    "data2 = dftb[[\"time\",\"Cyclone_cone_draft\"]]"
   ]
  },
  {
   "cell_type": "code",
   "execution_count": 60,
   "metadata": {},
   "outputs": [
    {
     "data": {
      "text/plain": [
       "time                  datetime64[ns]\n",
       "Cyclone_cone_draft           float64\n",
       "dtype: object"
      ]
     },
     "execution_count": 60,
     "metadata": {},
     "output_type": "execute_result"
    }
   ],
   "source": [
    "data2.dtypes"
   ]
  },
  {
   "cell_type": "code",
   "execution_count": 62,
   "metadata": {},
   "outputs": [
    {
     "data": {
      "text/plain": [
       "time                     0\n",
       "Cyclone_cone_draft    1320\n",
       "dtype: int64"
      ]
     },
     "execution_count": 62,
     "metadata": {},
     "output_type": "execute_result"
    }
   ],
   "source": [
    "#checking for null values\n",
    "\n",
    "data2.isna().sum()"
   ]
  },
  {
   "cell_type": "code",
   "execution_count": 63,
   "metadata": {},
   "outputs": [],
   "source": [
    "#dropping the null values\n",
    "\n",
    "data3 = data2.dropna()"
   ]
  },
  {
   "cell_type": "code",
   "execution_count": 64,
   "metadata": {},
   "outputs": [
    {
     "data": {
      "text/plain": [
       "time                  0\n",
       "Cyclone_cone_draft    0\n",
       "dtype: int64"
      ]
     },
     "execution_count": 64,
     "metadata": {},
     "output_type": "execute_result"
    }
   ],
   "source": [
    "data3.isna().sum()"
   ]
  },
  {
   "cell_type": "code",
   "execution_count": 65,
   "metadata": {},
   "outputs": [
    {
     "name": "stderr",
     "output_type": "stream",
     "text": [
      "<ipython-input-65-68316c38041b>:14: SettingWithCopyWarning: \n",
      "A value is trying to be set on a copy of a slice from a DataFrame.\n",
      "Try using .loc[row_indexer,col_indexer] = value instead\n",
      "\n",
      "See the caveats in the documentation: https://pandas.pydata.org/pandas-docs/stable/user_guide/indexing.html#returning-a-view-versus-a-copy\n",
      "  data3['anomaly1'] = pd.Series(model.predict(data))\n"
     ]
    }
   ],
   "source": [
    "#Outlier detection using Isolation forest\n",
    "\n",
    "from sklearn.preprocessing import StandardScaler\n",
    "from sklearn.ensemble import IsolationForest\n",
    "outliers_fraction = 0.01\n",
    "\n",
    "data = data3[['Cyclone_cone_draft']]\n",
    "scaler = StandardScaler()\n",
    "np_scaled = scaler.fit_transform(data)\n",
    "data = pd.DataFrame(np_scaled)\n",
    "# train isolation forest\n",
    "model =  IsolationForest(contamination=outliers_fraction)\n",
    "model.fit(data) \n",
    "data3['anomaly1'] = pd.Series(model.predict(data))"
   ]
  },
  {
   "cell_type": "code",
   "execution_count": 67,
   "metadata": {},
   "outputs": [
    {
     "data": {
      "image/png": "[encoded data removed]",
      "text/plain": [
       "<Figure size 1440x432 with 1 Axes>"
      ]
     },
     "metadata": {
      "needs_background": "light"
     },
     "output_type": "display_data"
    }
   ],
   "source": [
    "#visualisation\n",
    "\n",
    "fig, ax = plt.subplots(figsize=(20,6))\n",
    "\n",
    "a = data3.loc[data3['anomaly1'] == -1, ['time', 'Cyclone_cone_draft']] #anomaly\n",
    "\n",
    "ax.plot(data3['time'], data3['Cyclone_cone_draft'], color='blue', label = 'Normal')\n",
    "ax.scatter(a['time'],a['Cyclone_cone_draft'], color='red', label = 'Anomaly')\n",
    "plt.legend()\n",
    "plt.show();"
   ]
  },
  {
   "cell_type": "code",
   "execution_count": 68,
   "metadata": {},
   "outputs": [],
   "source": [
    "p3 = data3"
   ]
  },
  {
   "cell_type": "code",
   "execution_count": 69,
   "metadata": {},
   "outputs": [],
   "source": [
    "ano_3 = p3[p3['anomaly1']==-1]"
   ]
  },
  {
   "cell_type": "code",
   "execution_count": 70,
   "metadata": {},
   "outputs": [
    {
     "data": {
      "text/html": [
       "<div>\n",
       "<style scoped>\n",
       "    .dataframe tbody tr th:only-of-type {\n",
       "        vertical-align: middle;\n",
       "    }\n",
       "\n",
       "    .dataframe tbody tr th {\n",
       "        vertical-align: top;\n",
       "    }\n",
       "\n",
       "    .dataframe thead th {\n",
       "        text-align: right;\n",
       "    }\n",
       "</style>\n",
       "<table border=\"1\" class=\"dataframe\">\n",
       "  <thead>\n",
       "    <tr style=\"text-align: right;\">\n",
       "      <th></th>\n",
       "      <th>time</th>\n",
       "      <th>Cyclone_cone_draft</th>\n",
       "      <th>anomaly1</th>\n",
       "    </tr>\n",
       "  </thead>\n",
       "  <tbody>\n",
       "    <tr>\n",
       "      <th>930</th>\n",
       "      <td>2017-01-04 05:30:00</td>\n",
       "      <td>-90.94</td>\n",
       "      <td>-1.0</td>\n",
       "    </tr>\n",
       "    <tr>\n",
       "      <th>931</th>\n",
       "      <td>2017-01-04 05:35:00</td>\n",
       "      <td>-92.26</td>\n",
       "      <td>-1.0</td>\n",
       "    </tr>\n",
       "    <tr>\n",
       "      <th>932</th>\n",
       "      <td>2017-01-04 05:40:00</td>\n",
       "      <td>-85.05</td>\n",
       "      <td>-1.0</td>\n",
       "    </tr>\n",
       "    <tr>\n",
       "      <th>3469</th>\n",
       "      <td>2017-01-13 01:05:00</td>\n",
       "      <td>-164.98</td>\n",
       "      <td>-1.0</td>\n",
       "    </tr>\n",
       "    <tr>\n",
       "      <th>5241</th>\n",
       "      <td>2017-01-19 04:45:00</td>\n",
       "      <td>-175.36</td>\n",
       "      <td>-1.0</td>\n",
       "    </tr>\n",
       "    <tr>\n",
       "      <th>...</th>\n",
       "      <td>...</td>\n",
       "      <td>...</td>\n",
       "      <td>...</td>\n",
       "    </tr>\n",
       "    <tr>\n",
       "      <th>372915</th>\n",
       "      <td>2020-07-21 20:00:00</td>\n",
       "      <td>-252.01</td>\n",
       "      <td>-1.0</td>\n",
       "    </tr>\n",
       "    <tr>\n",
       "      <th>372937</th>\n",
       "      <td>2020-07-21 21:50:00</td>\n",
       "      <td>-254.08</td>\n",
       "      <td>-1.0</td>\n",
       "    </tr>\n",
       "    <tr>\n",
       "      <th>372940</th>\n",
       "      <td>2020-07-21 22:05:00</td>\n",
       "      <td>-237.98</td>\n",
       "      <td>-1.0</td>\n",
       "    </tr>\n",
       "    <tr>\n",
       "      <th>374097</th>\n",
       "      <td>2020-07-25 22:30:00</td>\n",
       "      <td>-248.49</td>\n",
       "      <td>-1.0</td>\n",
       "    </tr>\n",
       "    <tr>\n",
       "      <th>374105</th>\n",
       "      <td>2020-07-25 23:10:00</td>\n",
       "      <td>-246.47</td>\n",
       "      <td>-1.0</td>\n",
       "    </tr>\n",
       "  </tbody>\n",
       "</table>\n",
       "<p>3734 rows × 3 columns</p>\n",
       "</div>"
      ],
      "text/plain": [
       "                      time  Cyclone_cone_draft  anomaly1\n",
       "930    2017-01-04 05:30:00              -90.94      -1.0\n",
       "931    2017-01-04 05:35:00              -92.26      -1.0\n",
       "932    2017-01-04 05:40:00              -85.05      -1.0\n",
       "3469   2017-01-13 01:05:00             -164.98      -1.0\n",
       "5241   2017-01-19 04:45:00             -175.36      -1.0\n",
       "...                    ...                 ...       ...\n",
       "372915 2020-07-21 20:00:00             -252.01      -1.0\n",
       "372937 2020-07-21 21:50:00             -254.08      -1.0\n",
       "372940 2020-07-21 22:05:00             -237.98      -1.0\n",
       "374097 2020-07-25 22:30:00             -248.49      -1.0\n",
       "374105 2020-07-25 23:10:00             -246.47      -1.0\n",
       "\n",
       "[3734 rows x 3 columns]"
      ]
     },
     "execution_count": 70,
     "metadata": {},
     "output_type": "execute_result"
    }
   ],
   "source": [
    "ano_3"
   ]
  },
  {
   "cell_type": "code",
   "execution_count": 71,
   "metadata": {},
   "outputs": [
    {
     "data": {
      "image/png": "[encoded data removed]",
      "text/plain": [
       "<Figure size 1440x432 with 1 Axes>"
      ]
     },
     "metadata": {
      "needs_background": "light"
     },
     "output_type": "display_data"
    }
   ],
   "source": [
    "fig, ax = plt.subplots(figsize=(20,6))\n",
    "\n",
    "a = ano_3.loc[data3['anomaly1'] == -1, ['time', 'Cyclone_cone_draft']] #anomaly\n",
    "\n",
    "#ax.plot(ano_1['time'], ano_1['Cyclone_cone_draft'], color='blue', label = 'Normal')\n",
    "ax.scatter(a['time'],a['Cyclone_cone_draft'], color='red', label = 'Anomaly')\n",
    "plt.legend()\n",
    "plt.show();"
   ]
  },
  {
   "cell_type": "code",
   "execution_count": 72,
   "metadata": {},
   "outputs": [],
   "source": [
    "ano_3.to_csv('Anomaly_Cyclone_cone_draft_with_dropna.csv')"
   ]
  },
  {
   "cell_type": "code",
   "execution_count": null,
   "metadata": {},
   "outputs": [],
   "source": []
  },
  {
   "cell_type": "code",
   "execution_count": null,
   "metadata": {},
   "outputs": [],
   "source": [
    "# Using the fillna method to fill null values with zero for Cyclone_cone_draft attribute"
   ]
  },
  {
   "cell_type": "code",
   "execution_count": 73,
   "metadata": {},
   "outputs": [],
   "source": [
    "data4 = data2.fillna(0)"
   ]
  },
  {
   "cell_type": "code",
   "execution_count": 74,
   "metadata": {},
   "outputs": [
    {
     "data": {
      "text/plain": [
       "time                  0\n",
       "Cyclone_cone_draft    0\n",
       "dtype: int64"
      ]
     },
     "execution_count": 74,
     "metadata": {},
     "output_type": "execute_result"
    }
   ],
   "source": [
    "data4.isna().sum()"
   ]
  },
  {
   "cell_type": "code",
   "execution_count": 75,
   "metadata": {},
   "outputs": [
    {
     "data": {
      "text/plain": [
       "time                  datetime64[ns]\n",
       "Cyclone_cone_draft           float64\n",
       "dtype: object"
      ]
     },
     "execution_count": 75,
     "metadata": {},
     "output_type": "execute_result"
    }
   ],
   "source": [
    "data4.dtypes"
   ]
  },
  {
   "cell_type": "code",
   "execution_count": 76,
   "metadata": {},
   "outputs": [],
   "source": [
    "#Outlier deterction using Isolation forest method for attribute Cyclone_cone_draft when rows with na \n",
    "#values are replaced with zero\n",
    "\n",
    "from sklearn.preprocessing import StandardScaler\n",
    "from sklearn.ensemble import IsolationForest\n",
    "outliers_fraction = 0.01\n",
    "\n",
    "data = data4[['Cyclone_cone_draft']]\n",
    "scaler = StandardScaler()\n",
    "np_scaled = scaler.fit_transform(data)\n",
    "data = pd.DataFrame(np_scaled)\n",
    "# train isolation forest\n",
    "model =  IsolationForest(contamination=outliers_fraction)\n",
    "model.fit(data) \n",
    "data4['anomaly1'] = pd.Series(model.predict(data))"
   ]
  },
  {
   "cell_type": "code",
   "execution_count": 77,
   "metadata": {},
   "outputs": [
    {
     "data": {
      "image/png": "[encoded data removed]",
      "text/plain": [
       "<Figure size 1440x432 with 1 Axes>"
      ]
     },
     "metadata": {
      "needs_background": "light"
     },
     "output_type": "display_data"
    }
   ],
   "source": [
    "fig, ax = plt.subplots(figsize=(20,6))\n",
    "\n",
    "a = data4.loc[data4['anomaly1'] == -1, ['time', 'Cyclone_cone_draft']] #anomaly\n",
    "\n",
    "ax.plot(data4['time'], data4['Cyclone_cone_draft'], color='blue', label = 'Normal')\n",
    "ax.scatter(a['time'],a['Cyclone_cone_draft'], color='red', label = 'Anomaly')\n",
    "plt.legend()\n",
    "plt.show();"
   ]
  },
  {
   "cell_type": "code",
   "execution_count": 78,
   "metadata": {},
   "outputs": [
    {
     "data": {
      "text/html": [
       "<div>\n",
       "<style scoped>\n",
       "    .dataframe tbody tr th:only-of-type {\n",
       "        vertical-align: middle;\n",
       "    }\n",
       "\n",
       "    .dataframe tbody tr th {\n",
       "        vertical-align: top;\n",
       "    }\n",
       "\n",
       "    .dataframe thead th {\n",
       "        text-align: right;\n",
       "    }\n",
       "</style>\n",
       "<table border=\"1\" class=\"dataframe\">\n",
       "  <thead>\n",
       "    <tr style=\"text-align: right;\">\n",
       "      <th></th>\n",
       "      <th>time</th>\n",
       "      <th>Cyclone_cone_draft</th>\n",
       "      <th>anomaly1</th>\n",
       "    </tr>\n",
       "  </thead>\n",
       "  <tbody>\n",
       "    <tr>\n",
       "      <th>932</th>\n",
       "      <td>2017-01-04 05:40:00</td>\n",
       "      <td>-85.05</td>\n",
       "      <td>-1</td>\n",
       "    </tr>\n",
       "    <tr>\n",
       "      <th>3520</th>\n",
       "      <td>2017-01-13 05:20:00</td>\n",
       "      <td>-70.02</td>\n",
       "      <td>-1</td>\n",
       "    </tr>\n",
       "    <tr>\n",
       "      <th>5292</th>\n",
       "      <td>2017-01-19 09:00:00</td>\n",
       "      <td>-66.94</td>\n",
       "      <td>-1</td>\n",
       "    </tr>\n",
       "    <tr>\n",
       "      <th>5293</th>\n",
       "      <td>2017-01-19 09:05:00</td>\n",
       "      <td>-74.10</td>\n",
       "      <td>-1</td>\n",
       "    </tr>\n",
       "    <tr>\n",
       "      <th>5294</th>\n",
       "      <td>2017-01-19 09:10:00</td>\n",
       "      <td>-86.48</td>\n",
       "      <td>-1</td>\n",
       "    </tr>\n",
       "    <tr>\n",
       "      <th>...</th>\n",
       "      <td>...</td>\n",
       "      <td>...</td>\n",
       "      <td>...</td>\n",
       "    </tr>\n",
       "    <tr>\n",
       "      <th>374258</th>\n",
       "      <td>2020-07-26 11:55:00</td>\n",
       "      <td>-76.04</td>\n",
       "      <td>-1</td>\n",
       "    </tr>\n",
       "    <tr>\n",
       "      <th>374259</th>\n",
       "      <td>2020-07-26 12:00:00</td>\n",
       "      <td>-81.96</td>\n",
       "      <td>-1</td>\n",
       "    </tr>\n",
       "    <tr>\n",
       "      <th>374260</th>\n",
       "      <td>2020-07-26 12:05:00</td>\n",
       "      <td>-84.78</td>\n",
       "      <td>-1</td>\n",
       "    </tr>\n",
       "    <tr>\n",
       "      <th>375417</th>\n",
       "      <td>2020-07-30 12:30:00</td>\n",
       "      <td>-48.28</td>\n",
       "      <td>-1</td>\n",
       "    </tr>\n",
       "    <tr>\n",
       "      <th>375943</th>\n",
       "      <td>2020-08-01 08:20:00</td>\n",
       "      <td>-78.68</td>\n",
       "      <td>-1</td>\n",
       "    </tr>\n",
       "  </tbody>\n",
       "</table>\n",
       "<p>3743 rows × 3 columns</p>\n",
       "</div>"
      ],
      "text/plain": [
       "                      time  Cyclone_cone_draft  anomaly1\n",
       "932    2017-01-04 05:40:00              -85.05        -1\n",
       "3520   2017-01-13 05:20:00              -70.02        -1\n",
       "5292   2017-01-19 09:00:00              -66.94        -1\n",
       "5293   2017-01-19 09:05:00              -74.10        -1\n",
       "5294   2017-01-19 09:10:00              -86.48        -1\n",
       "...                    ...                 ...       ...\n",
       "374258 2020-07-26 11:55:00              -76.04        -1\n",
       "374259 2020-07-26 12:00:00              -81.96        -1\n",
       "374260 2020-07-26 12:05:00              -84.78        -1\n",
       "375417 2020-07-30 12:30:00              -48.28        -1\n",
       "375943 2020-08-01 08:20:00              -78.68        -1\n",
       "\n",
       "[3743 rows x 3 columns]"
      ]
     },
     "execution_count": 78,
     "metadata": {},
     "output_type": "execute_result"
    }
   ],
   "source": [
    "p4 = data4\n",
    "ano_4 = p4[p4['anomaly1']==-1]\n",
    "ano_4"
   ]
  },
  {
   "cell_type": "code",
   "execution_count": 79,
   "metadata": {},
   "outputs": [
    {
     "data": {
      "image/png": "[encoded data removed]",
      "text/plain": [
       "<Figure size 1440x432 with 1 Axes>"
      ]
     },
     "metadata": {
      "needs_background": "light"
     },
     "output_type": "display_data"
    }
   ],
   "source": [
    "fig, ax = plt.subplots(figsize=(20,6))\n",
    "\n",
    "a = ano_4.loc[data4['anomaly1'] == -1, ['time', 'Cyclone_cone_draft']] #anomaly\n",
    "\n",
    "#ax.plot(ano_1['time'], ano_1['Cyclone_cone_draft'], color='blue', label = 'Normal')\n",
    "ax.scatter(a['time'],a['Cyclone_cone_draft'], color='red', label = 'Anomaly')\n",
    "plt.legend()\n",
    "plt.show();"
   ]
  },
  {
   "cell_type": "code",
   "execution_count": 80,
   "metadata": {},
   "outputs": [],
   "source": [
    "ano_4.to_csv('Anomaly_Cyclone_cone_draft_with_fillna.csv')"
   ]
  },
  {
   "cell_type": "code",
   "execution_count": null,
   "metadata": {},
   "outputs": [],
   "source": []
  },
  {
   "cell_type": "code",
   "execution_count": null,
   "metadata": {},
   "outputs": [],
   "source": []
  },
  {
   "cell_type": "code",
   "execution_count": null,
   "metadata": {},
   "outputs": [],
   "source": []
  },
  {
   "cell_type": "code",
   "execution_count": null,
   "metadata": {},
   "outputs": [],
   "source": []
  },
  {
   "cell_type": "code",
   "execution_count": null,
   "metadata": {},
   "outputs": [],
   "source": []
  },
  {
   "cell_type": "code",
   "execution_count": null,
   "metadata": {},
   "outputs": [],
   "source": []
  },
  {
   "cell_type": "code",
   "execution_count": null,
   "metadata": {},
   "outputs": [],
   "source": []
  }
 ],
 "metadata": {
  "kernelspec": {
   "display_name": "Python 3",
   "language": "python",
   "name": "python3"
  },
  "language_info": {
   "codemirror_mode": {
    "name": "ipython",
    "version": 3
   },
   "file_extension": ".py",
   "mimetype": "text/x-python",
   "name": "python",
   "nbconvert_exporter": "python",
   "pygments_lexer": "ipython3",
   "version": "3.8.3"
  }
 },
 "nbformat": 4,
 "nbformat_minor": 4
}
